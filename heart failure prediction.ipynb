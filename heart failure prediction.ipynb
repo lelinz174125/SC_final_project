{
 "cells": [
  {
   "cell_type": "code",
   "execution_count": 1,
   "id": "36b7e246",
   "metadata": {},
   "outputs": [],
   "source": [
    "from easygui.boxes.choice_box import make_list_or_none\n",
    "import pandas as pd\n",
    "import pandas as pd\n",
    "import numpy as np \n",
    "import matplotlib.pyplot as plt \n",
    "import seaborn as sns \n",
    "import easygui as gui\n",
    "import tkinter as tk\n",
    "from sklearn.model_selection import train_test_split\n",
    "# from sklearn.pipeline import Pipeline\n",
    "import sklearn.metrics as metrics\n",
    "from sklearn.metrics import classification_report\n",
    "from sklearn.preprocessing import StandardScaler \n",
    "# from sklearn.manifold import TSNE \n",
    "\n",
    "from sklearn.linear_model import LogisticRegression\n",
    "from sklearn.ensemble import RandomForestClassifier\n",
    "from sklearn.metrics import confusion_matrix,precision_recall_curve,precision_score, recall_score, f1_score, accuracy_score, roc_auc_score\n",
    "from sklearn.feature_selection import VarianceThreshold\n",
    "%matplotlib inline\n"
   ]
  },
  {
   "cell_type": "markdown",
   "id": "702a3b53",
   "metadata": {},
   "source": [
    "Address data"
   ]
  },
  {
   "cell_type": "code",
   "execution_count": 2,
   "id": "81d5a68f",
   "metadata": {},
   "outputs": [
    {
     "name": "stdout",
     "output_type": "stream",
     "text": [
      "<class 'pandas.core.frame.DataFrame'>\n",
      "RangeIndex: 918 entries, 0 to 917\n",
      "Data columns (total 12 columns):\n",
      " #   Column          Non-Null Count  Dtype  \n",
      "---  ------          --------------  -----  \n",
      " 0   Age             918 non-null    int64  \n",
      " 1   Sex             918 non-null    object \n",
      " 2   ChestPainType   918 non-null    object \n",
      " 3   RestingBP       918 non-null    int64  \n",
      " 4   Cholesterol     918 non-null    int64  \n",
      " 5   FastingBS       918 non-null    int64  \n",
      " 6   RestingECG      918 non-null    object \n",
      " 7   MaxHR           918 non-null    int64  \n",
      " 8   ExerciseAngina  918 non-null    object \n",
      " 9   Oldpeak         918 non-null    float64\n",
      " 10  ST_Slope        918 non-null    object \n",
      " 11  HeartDisease    918 non-null    int64  \n",
      "dtypes: float64(1), int64(6), object(5)\n",
      "memory usage: 86.2+ KB\n"
     ]
    }
   ],
   "source": [
    "df = pd.read_csv('heart.csv')\n",
    "'''\n",
    "The features in the data set incluses\n",
    "    Age: age of the patient [years]\n",
    "    Sex: sex of the patient [1: Male, 0: Female]\n",
    "    ChestPainType: chest pain type [TA: Typical Angina, ATA: Atypical Angina, NAP: Non-Anginal Pain, ASY: Asymptomatic]\n",
    "    RestingBP: resting blood pressure [mm Hg]\n",
    "    Cholesterol: serum cholesterol [mm/dl]\n",
    "    FastingBS: fasting blood sugar [1: if FastingBS > 120 mg/dl, 0: otherwise]\n",
    "    RestingECG: resting electrocardiogram results [Normal: Normal, ST: having ST-T wave abnormality \n",
    "                (T wave inversions and/or ST elevation or depression of > 0.05 mV), LVH: showing probable \n",
    "                or definite left ventricular hypertrophy by Estes' criteria]\n",
    "    MaxHR: maximum heart rate achieved [Numeric value between 60 and 202]\n",
    "    ExerciseAngina: exercise-induced angina [1: Yes, 0: No]\n",
    "    Oldpeak: oldpeak = ST [Numeric value measured in depression]\n",
    "    ST_Slope: the slope of the peak exercise ST segment [Up: upsloping, Flat: flat, Down: downsloping]\n",
    "    HeartDisease: output class [1: heart disease, 0: Normal]\n",
    "'''\n",
    "df.info()\n",
    "df.head(10)\n",
    "new_df = pd.DataFrame(columns=['Age','Sex',\t'ChestPainType_TA','ChestPainType_ATA','ChestPainType_ASY',\n",
    "                            'ChestPainType_NAP','RestingBP','Cholesterol','FastingBS','RestingECG_Normal',\n",
    "                            'RestingECG_ST','RestingECG_LVH','MaxHR','ExerciseAngina','Oldpeak','ST_Slope_Up',\n",
    "                            'ST_Slope_Flat','ST_Slope_Down','HeartDisease'])\n",
    "new_df['Age']=df['Age']\n",
    "new_df['Sex']=df['Sex']\n",
    "new_df['ChestPainType_TA']=df['ChestPainType']\n",
    "new_df['ChestPainType_ATA']=df['ChestPainType']\n",
    "new_df['ChestPainType_ASY']=df['ChestPainType']\n",
    "new_df['ChestPainType_NAP']=df['ChestPainType']\n",
    "new_df['RestingBP']=df['RestingBP']\n",
    "new_df['Cholesterol']=df['Cholesterol']\n",
    "new_df['FastingBS']=df['FastingBS']\n",
    "new_df['RestingECG_Normal']=df['RestingECG']\n",
    "new_df['RestingECG_ST']=df['RestingECG']\n",
    "new_df['RestingECG_LVH']=df['RestingECG']\n",
    "new_df['MaxHR']=df['MaxHR']\n",
    "new_df['ExerciseAngina']=df['ExerciseAngina']\n",
    "new_df['Oldpeak']=df['Oldpeak']\n",
    "new_df['ST_Slope_Up']=df['ST_Slope']\n",
    "new_df['ST_Slope_Flat']=df['ST_Slope']\n",
    "new_df['ST_Slope_Down']=df['ST_Slope']\n",
    "new_df['HeartDisease']=df['HeartDisease']\n",
    "\n",
    "new_df['Sex'].replace(['M','F'],[1.0, 0.0], inplace = True)\n",
    "new_df['ChestPainType_TA'].replace(['TA','ATA','ASY','NAP'],[1.0, 0.0, 0.0, 0.0], inplace = True)\n",
    "new_df['ChestPainType_ATA'].replace(['TA','ATA','ASY','NAP'],[0.0, 1.0, 0.0, 0.0], inplace = True)\n",
    "new_df['ChestPainType_ASY'].replace(['TA','ATA','ASY','NAP'],[0.0, 0.0, 0.1, 0.0], inplace = True)\n",
    "new_df['ChestPainType_NAP'].replace(['TA','ATA','ASY','NAP'],[0.0, 0.0, 0.0, 1.0], inplace = True)\n",
    "new_df['RestingECG_Normal'].replace(['Normal','ST','LVH'],[1.0, 0.0, 0.0], inplace = True)\n",
    "new_df['RestingECG_ST'].replace(['Normal','ST','LVH'],[0.0, 1.0, 0.0], inplace = True)\n",
    "new_df['RestingECG_LVH'].replace(['Normal','ST','LVH'],[0.0, 0.0, 1.0], inplace = True)\n",
    "new_df['ExerciseAngina'].replace(['Y','N'],[1.0, 0.0], inplace = True)\n",
    "new_df['ST_Slope_Up'].replace(['Up','Flat','Down'],[1.0, 0.0, 0.0], inplace = True)\n",
    "new_df['ST_Slope_Flat'].replace(['Up','Flat','Down'],[0.0, 1.0, 0.0], inplace = True)\n",
    "new_df['ST_Slope_Down'].replace(['Up','Flat','Down'],[0.0, 0.0, 1.0], inplace = True)\n",
    "\n",
    "# new_df.info()\n",
    "new_df.head(10)\n",
    "# print(new_df)\n",
    "\n",
    "new_df.to_csv('heart_data_addressed.csv')"
   ]
  },
  {
   "cell_type": "markdown",
   "id": "f69927bf",
   "metadata": {},
   "source": [
    "Prediction Assessment"
   ]
  },
  {
   "cell_type": "code",
   "execution_count": 3,
   "id": "401f34e1",
   "metadata": {},
   "outputs": [],
   "source": [
    "def plot_confusion_matrix(y_test, y_pred):\n",
    "   \n",
    "    conf_matrix = confusion_matrix(y_true=y_test, y_pred=y_pred)\n",
    "    fig, ax = plt.subplots(figsize=(5, 5))\n",
    "    ax.matshow(conf_matrix, cmap='GnBu', alpha=0.75)\n",
    "    for i in range(conf_matrix.shape[0]):\n",
    "        for j in range(conf_matrix.shape[1]):\n",
    "            ax.text(x=j, y=i,s=conf_matrix[i, j], va='center', ha='center', size='large') \n",
    "    plt.xlabel('Predictions', fontsize=14)\n",
    "    plt.ylabel('Actuals', fontsize=14)\n",
    "    plt.title('Confusion Matrix', fontsize=14)\n",
    "    plt.show()\n",
    "    return None\n",
    "\n",
    "def ROC_curve(y_test, y_pred_prob):\n",
    "    fpr, tpr, threholds = metrics.roc_curve(y_test, y_pred)\n",
    "    roc_auc = metrics.auc(fpr, tpr)\n",
    "    print(fpr,tpr,threholds)\n",
    "    plt.title('Receiver Operating Characteristic')\n",
    "    plt.plot(fpr, tpr, 'b', label = 'AUC = %0.2f' % roc_auc)\n",
    "    plt.legend(loc = 'lower right')\n",
    "    plt.plot([0, 1], [0, 1],'r--')\n",
    "    plt.xlim([0, 1])\n",
    "    plt.ylim([0, 1])\n",
    "    plt.ylabel('True Positive Rate')\n",
    "    plt.xlabel('False Positive Rate')\n",
    "    plt.show()\n",
    "\n",
    "def Scores(y_test,y_pred):\n",
    "    print('Precision: %.3f' % precision_score(y_test, y_pred))\n",
    "    print('Recall: %.3f' % recall_score(y_test, y_pred))\n",
    "    print('Accuracy: %.3f' % accuracy_score(y_test, y_pred))\n",
    "    print('F1 Score: %.3f' % f1_score(y_test, y_pred))\n",
    "    print('ROC-AUC Score: %.3f' % roc_auc_score(y_test, y_pred))\n",
    "    return None\n",
    "\n",
    "def PR_curve(y_test, y_pred_prob):\n",
    "    precision, recall, _= precision_recall_curve(y_test, y_pred)\n",
    "    print(precision,recall)\n",
    "    plt.plot(recall, precision, marker='.', label='Logistic')\n",
    "    plt.xlabel('Recall')\n",
    "    plt.ylabel('Precision')\n",
    "    plt.title('Comparison of classification models (PRC)')\n",
    "    plt.legend()\n",
    "    plt.show()"
   ]
  },
  {
   "cell_type": "markdown",
   "id": "46c897a9",
   "metadata": {},
   "source": [
    "Logistic Regression "
   ]
  },
  {
   "cell_type": "code",
   "execution_count": 4,
   "id": "6affc8c0",
   "metadata": {},
   "outputs": [
    {
     "data": {
      "image/png": "[encoded data removed]",
      "text/plain": [
       "<Figure size 360x360 with 1 Axes>"
      ]
     },
     "metadata": {
      "needs_background": "light"
     },
     "output_type": "display_data"
    },
    {
     "name": "stdout",
     "output_type": "stream",
     "text": [
      "[0.         0.13924051 1.        ] [0.         0.87619048 1.        ] [2 1 0]\n"
     ]
    },
    {
     "data": {
      "image/png": "[encoded data removed]",
      "text/plain": [
       "<Figure size 432x288 with 1 Axes>"
      ]
     },
     "metadata": {
      "needs_background": "light"
     },
     "output_type": "display_data"
    },
    {
     "name": "stdout",
     "output_type": "stream",
     "text": [
      "[0.57065217 0.89320388 1.        ] [1.         0.87619048 0.        ]\n"
     ]
    },
    {
     "data": {
      "image/png": "[encoded data removed]",
      "text/plain": [
       "<Figure size 432x288 with 1 Axes>"
      ]
     },
     "metadata": {
      "needs_background": "light"
     },
     "output_type": "display_data"
    },
    {
     "name": "stdout",
     "output_type": "stream",
     "text": [
      "Precision: 0.893\n",
      "Recall: 0.876\n",
      "Accuracy: 0.870\n",
      "F1 Score: 0.885\n",
      "ROC-AUC Score: 0.868\n"
     ]
    }
   ],
   "source": [
    "dataset = new_df\n",
    "X = dataset.drop(['HeartDisease'], axis=1)\n",
    "Y = dataset['HeartDisease']\n",
    "x_train, x_test, y_train, y_test = train_test_split(X, Y, train_size=0.8, test_size=0.2, random_state=100)\n",
    "transfer = StandardScaler()\n",
    "x_train = transfer.fit_transform(x_train)\n",
    "x_test = transfer.fit_transform(x_test)\n",
    "lr=LogisticRegression(class_weight=\"balanced\")\n",
    "lr.fit(x_train,y_train)\n",
    "#利用训练模型进行预测\n",
    "y_pred_prob = lr.predict_proba(x_test)\n",
    "y_pred=lr.predict(x_test)\n",
    "# res2 = lr.fit()\n",
    "# res2.summary()\n",
    "plot_confusion_matrix(y_test,y_pred)\n",
    "ROC_curve(y_test, y_pred_prob)\n",
    "PR_curve(y_test, y_pred_prob)\n",
    "Scores(y_test,y_pred)"
   ]
  },
  {
   "cell_type": "code",
   "execution_count": 5,
   "id": "f2e63d0c",
   "metadata": {},
   "outputs": [
    {
     "name": "stdout",
     "output_type": "stream",
     "text": [
      "None\n",
      "None\n"
     ]
    }
   ],
   "source": [
    "%matplotlib inline\n",
    "gui.msgbox('test')\n",
    "model_choice = gui.choicebox(msg='Which models would you like to use ', title=' Heart Failure Prediction', choices=['Logistic Regression','Randomforest','Desision Tree','Gaussian Naive Bayes'])\n",
    "features = ['Age','Sex','ChestPainType(TA,ATA,ASY,NAP)','RestingBP','Cholesterol','FastingBS','RestingECG(Normal,ST,LVH)','MaxHR','ExerciseAngina','Oldpeak','ST_Slope(Up,Flat,Down)']\n",
    "patience_information = gui.multenterbox(msg=' Please input patient information', title=' Heart Failure Prediction', fields=features, values=[])\n",
    "print(patience_information)\n",
    "print(model_choice)\n"
   ]
  },
  {
   "cell_type": "code",
   "execution_count": null,
   "id": "e623f1ee",
   "metadata": {},
   "outputs": [],
   "source": []
  }
 ],
 "metadata": {
  "kernelspec": {
   "display_name": "Python 3 (ipykernel)",
   "language": "python",
   "name": "python3"
  },
  "language_info": {
   "codemirror_mode": {
    "name": "ipython",
    "version": 3
   },
   "file_extension": ".py",
   "mimetype": "text/x-python",
   "name": "python",
   "nbconvert_exporter": "python",
   "pygments_lexer": "ipython3",
   "version": "3.8.8"
  }
 },
 "nbformat": 4,
 "nbformat_minor": 5
}
